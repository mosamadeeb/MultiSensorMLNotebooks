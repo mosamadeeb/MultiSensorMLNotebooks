{
 "cells": [
  {
   "cell_type": "code",
   "execution_count": 173,
   "metadata": {},
   "outputs": [],
   "source": [
    "import pandas as pd\n",
    "import numpy as np\n",
    "import treelite\n",
    "import pickle\n",
    "import cudf\n",
    "from sklearn.metrics import accuracy_score, classification_report"
   ]
  },
  {
   "cell_type": "code",
   "execution_count": 174,
   "metadata": {},
   "outputs": [],
   "source": [
    "# Load the model\n",
    "checkpoint_path = './pickled/cuml_model.tl'\n",
    "tl_model = treelite.Model.deserialize(checkpoint_path)\n",
    "\n",
    "cuml_model = pickle.load(open('./pickled/cuml_model.pkl', 'rb'))\n",
    "scaler = pickle.load(open('./pickled/scaler.pkl', 'rb'))"
   ]
  },
  {
   "cell_type": "code",
   "execution_count": 175,
   "metadata": {},
   "outputs": [],
   "source": [
    "# Load the data csv\n",
    "df = pd.read_csv('./test_data/processed_test_data_22_05.csv', sep=' ')"
   ]
  },
  {
   "cell_type": "code",
   "execution_count": 176,
   "metadata": {},
   "outputs": [],
   "source": [
    "TIME_COL = '1 MILLISEC'\n",
    "\n",
    "def format_ms(t: str) -> int:\n",
    "    m, s = t.split(':')\n",
    "    return (int(m) * 60 + int(s)) * 1000\n",
    "\n",
    "# Annotations for test_data_22_05\n",
    "annotations = [\n",
    "    (\"0:00\", \"0:45\", 1),# first 45000 ms -> standing\n",
    "    (\"0:45\", \"1:44\", 2),# next 0:45 to 1:44  -> walking\n",
    "    (\"1:44\", \"2:36\", 1),# from 1:44 to 2:36 -> standing\n",
    "    (\"3:21\", \"3:42\", 4),# from 3:21 to 3:42 -> sitting\n",
    "    (\"3:43\", \"4:20\", 1),# from 3:43 to 4:20 -> standing\n",
    "    (\"4:21\", \"4:38\", 4),# from 4:21 to 4:38 -> sitting\n",
    "    (\"5:23\", \"5:50\", 4),# 5:23 to 5:50 -> sitting\n",
    "    (\"5:50\", \"6:10\", 1),# 5:50 to 6:10 -> standing\n",
    "    (\"6:10\", \"6:40\", 4),# 6:10 to 6:40 -> sitting\n",
    "    (\"6:52\", \"7:20\", 2),# 6:52 to 7:20 -> walking\n",
    "    (\"7:34\", \"8:00\", 5),# 7:34 to 8:00 -> lying down\n",
    "    (\"8:26\", \"9:40\", 2),# 8:26 to 9:40 -> walking\n",
    "    (\"9:40\", \"10:08\", 1),# 9:40 to 10:08 -> standing\n",
    "    (\"10:15\", \"11:35\", 5),# 10:15 to 11:35 -> lying down\n",
    "    (\"11:40\", \"11:50\", 1),# 11:40 to 11:50 -> standing\n",
    "    (\"11:59\", \"12:40\", 4),# 11:59 to 12:40 -> sitting\n",
    "    (\"14:40\", \"15:20\", 1)# 14:40 to 15:20 -> standing\n",
    "]\n",
    "\n",
    "# Convert time strings to milliseconds\n",
    "annotations = [(format_ms(start) + 50000, format_ms(end) + 50000, label) for start, end, label in annotations]\n",
    "\n",
    "# Add a label column to the DataFrame and initialize with zeros\n",
    "df['251 Label'] = 0\n",
    "\n",
    "# Apply the labels based on the annotations\n",
    "for start, end, label in annotations:\n",
    "    df.loc[(df[TIME_COL] >= start) & (df[TIME_COL] <= end), '251 Label'] = label\n",
    "\n",
    "# now drop the rows with 0\n",
    "df = df[df['251 Label'] != 0]\n",
    "\n",
    "# Label: all standing\n",
    "# y_val = np.full(x_val.shape[0], 1)"
   ]
  },
  {
   "cell_type": "code",
   "execution_count": 177,
   "metadata": {},
   "outputs": [],
   "source": [
    "# Preprocess the data\n",
    "columns = [4,5,6, 7,8,9, 10,11,12, 13,14,15, 16,17,18,  22,23,24, 37,38,39,43,44,45, 56,57,58,  84,85,86, 97]\n",
    "\n",
    "# Convert columns in dataset from names to indices\n",
    "df.columns = [int(x.split()[0]) - 1 for x in df.columns]\n",
    "\n",
    "# Drop the columns with NaN values\n",
    "df = df.dropna(axis=0, subset=columns)\n",
    "x_val = df.loc[:, columns]\n",
    "\n",
    "y_val = np.array(df[250])\n",
    "\n",
    "# Scale the data\n",
    "x_val = scaler.transform(x_val)"
   ]
  },
  {
   "cell_type": "markdown",
   "metadata": {},
   "source": [
    "## cuML prediction"
   ]
  },
  {
   "cell_type": "code",
   "execution_count": 178,
   "metadata": {},
   "outputs": [
    {
     "name": "stdout",
     "output_type": "stream",
     "text": [
      "Accuracy: 0.28\n",
      "              precision    recall  f1-score   support\n",
      "\n",
      "           1       0.35      0.81      0.49       160\n",
      "           2       0.50      0.02      0.03       128\n",
      "           4       0.00      0.00      0.00       110\n",
      "           5       0.05      0.06      0.05        84\n",
      "\n",
      "    accuracy                           0.28       482\n",
      "   macro avg       0.22      0.22      0.14       482\n",
      "weighted avg       0.26      0.28      0.18       482\n",
      "\n"
     ]
    },
    {
     "name": "stderr",
     "output_type": "stream",
     "text": [
      "/home/mohamed/micromamba/envs/rapids-24.04/lib/python3.11/site-packages/sklearn/metrics/_classification.py:1517: UndefinedMetricWarning: Precision is ill-defined and being set to 0.0 in labels with no predicted samples. Use `zero_division` parameter to control this behavior.\n",
      "  _warn_prf(average, modifier, f\"{metric.capitalize()} is\", len(result))\n",
      "/home/mohamed/micromamba/envs/rapids-24.04/lib/python3.11/site-packages/sklearn/metrics/_classification.py:1517: UndefinedMetricWarning: Precision is ill-defined and being set to 0.0 in labels with no predicted samples. Use `zero_division` parameter to control this behavior.\n",
      "  _warn_prf(average, modifier, f\"{metric.capitalize()} is\", len(result))\n",
      "/home/mohamed/micromamba/envs/rapids-24.04/lib/python3.11/site-packages/sklearn/metrics/_classification.py:1517: UndefinedMetricWarning: Precision is ill-defined and being set to 0.0 in labels with no predicted samples. Use `zero_division` parameter to control this behavior.\n",
      "  _warn_prf(average, modifier, f\"{metric.capitalize()} is\", len(result))\n"
     ]
    }
   ],
   "source": [
    "# Run the model\n",
    "y_pred = cuml_model.predict(cudf.DataFrame(data=x_val)).to_numpy()\n",
    "\n",
    "# Evaluate the model performance\n",
    "accuracy = accuracy_score(y_val, y_pred)\n",
    "print(f\"Accuracy: {accuracy:.2f}\")\n",
    "\n",
    "print(classification_report(y_val, y_pred))"
   ]
  },
  {
   "cell_type": "code",
   "execution_count": 179,
   "metadata": {},
   "outputs": [
    {
     "data": {
      "image/png": "[encoded data removed]",
      "text/plain": [
       "<Figure size 640x480 with 2 Axes>"
      ]
     },
     "metadata": {},
     "output_type": "display_data"
    }
   ],
   "source": [
    "# Print the confusion matrix\n",
    "from sklearn.metrics import confusion_matrix\n",
    "import seaborn as sns\n",
    "from matplotlib import pyplot as plt\n",
    "\n",
    "labels = [1, 2, 4, 5]\n",
    "label_names = ['Standing', 'Walking', 'Sitting', 'Lying']\n",
    "\n",
    "cm = confusion_matrix(y_val, y_pred, labels=labels)\n",
    "sns.heatmap(cm, annot=True, fmt='d', cmap='Blues', xticklabels=label_names, yticklabels=label_names)\n",
    "plt.title('Confusion Matrix')\n",
    "plt.xlabel('Predicted')\n",
    "plt.ylabel('True')\n",
    "plt.show()"
   ]
  },
  {
   "cell_type": "markdown",
   "metadata": {},
   "source": [
    "## Treelite prediction"
   ]
  },
  {
   "cell_type": "code",
   "execution_count": 180,
   "metadata": {},
   "outputs": [
    {
     "name": "stdout",
     "output_type": "stream",
     "text": [
      "Accuracy: 0.28\n",
      "              precision    recall  f1-score   support\n",
      "\n",
      "           1       0.35      0.81      0.49       160\n",
      "           2       0.50      0.02      0.03       128\n",
      "           4       0.00      0.00      0.00       110\n",
      "           5       0.05      0.06      0.05        84\n",
      "\n",
      "    accuracy                           0.28       482\n",
      "   macro avg       0.22      0.22      0.14       482\n",
      "weighted avg       0.26      0.28      0.18       482\n",
      "\n"
     ]
    },
    {
     "name": "stderr",
     "output_type": "stream",
     "text": [
      "/home/mohamed/micromamba/envs/rapids-24.04/lib/python3.11/site-packages/sklearn/metrics/_classification.py:1517: UndefinedMetricWarning: Precision is ill-defined and being set to 0.0 in labels with no predicted samples. Use `zero_division` parameter to control this behavior.\n",
      "  _warn_prf(average, modifier, f\"{metric.capitalize()} is\", len(result))\n",
      "/home/mohamed/micromamba/envs/rapids-24.04/lib/python3.11/site-packages/sklearn/metrics/_classification.py:1517: UndefinedMetricWarning: Precision is ill-defined and being set to 0.0 in labels with no predicted samples. Use `zero_division` parameter to control this behavior.\n",
      "  _warn_prf(average, modifier, f\"{metric.capitalize()} is\", len(result))\n",
      "/home/mohamed/micromamba/envs/rapids-24.04/lib/python3.11/site-packages/sklearn/metrics/_classification.py:1517: UndefinedMetricWarning: Precision is ill-defined and being set to 0.0 in labels with no predicted samples. Use `zero_division` parameter to control this behavior.\n",
      "  _warn_prf(average, modifier, f\"{metric.capitalize()} is\", len(result))\n"
     ]
    }
   ],
   "source": [
    "# Run the model\n",
    "y_pred = treelite.gtil.predict(tl_model, x_val)\n",
    "\n",
    "# Get the class with the highest probability\n",
    "y_pred = np.argmax(y_pred[:, 0], axis=1)\n",
    "\n",
    "# Map the indices to the labels\n",
    "labels = [1, 2, 4, 5]\n",
    "y_pred = [labels[i] for i in y_pred]\n",
    "\n",
    "# Evaluate the model performance\n",
    "accuracy = accuracy_score(y_val, y_pred)\n",
    "print(f\"Accuracy: {accuracy:.2f}\")\n",
    "\n",
    "print(classification_report(y_val, y_pred))"
   ]
  }
 ],
 "metadata": {
  "kernelspec": {
   "display_name": "Python 3",
   "language": "python",
   "name": "python3"
  },
  "language_info": {
   "codemirror_mode": {
    "name": "ipython",
    "version": 3
   },
   "file_extension": ".py",
   "mimetype": "text/x-python",
   "name": "python",
   "nbconvert_exporter": "python",
   "pygments_lexer": "ipython3",
   "version": "3.11.9"
  }
 },
 "nbformat": 4,
 "nbformat_minor": 2
}
